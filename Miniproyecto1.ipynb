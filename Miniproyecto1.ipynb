{
  "nbformat": 4,
  "nbformat_minor": 0,
  "metadata": {
    "colab": {
      "provenance": []
    },
    "kernelspec": {
      "name": "python3",
      "display_name": "Python 3"
    },
    "language_info": {
      "name": "python"
    }
  },
  "cells": [
    {
      "cell_type": "markdown",
      "source": [
        "#Miniproyecto 1: Red Wine Quality"
      ],
      "metadata": {
        "id": "yoLogs_ZeDAw"
      }
    },
    {
      "cell_type": "code",
      "execution_count": 1,
      "metadata": {
        "id": "mmO5KOCCO-IS",
        "colab": {
          "base_uri": "https://localhost:8080/"
        },
        "outputId": "127afe6a-c5b8-4230-cec0-2042414939b1"
      },
      "outputs": [
        {
          "output_type": "stream",
          "name": "stdout",
          "text": [
            "downloaded thinkstats2.py\n",
            "downloaded thinkplot.py\n"
          ]
        }
      ],
      "source": [
        "#Descarga de librerías\n",
        "\n",
        "from os.path import basename,exists\n",
        "\n",
        "def download(url):\n",
        "  filename= basename(url)\n",
        "  if not exists(filename):\n",
        "    from urllib.request import urlretrieve\n",
        "\n",
        "    local, _ = urlretrieve(url,filename)\n",
        "    print(\"downloaded \" + local)\n",
        "\n",
        "\n",
        "download(\"https://github.com/AllenDowney/ThinkStats2/raw/master/code/thinkstats2.py\")\n",
        "download(\"https://github.com/AllenDowney/ThinkStats2/raw/master/code/thinkplot.py\")\n"
      ]
    },
    {
      "cell_type": "code",
      "source": [
        "#Importe de librerias y carga del archivo\n",
        "\n",
        "import numpy as np\n",
        "import pandas as pd\n",
        "import thinkplot\n",
        "import thinkstats2\n",
        "import matplotlib.pyplot as plt\n"
      ],
      "metadata": {
        "id": "PEmIDv_TPJ5K"
      },
      "execution_count": 2,
      "outputs": []
    },
    {
      "cell_type": "code",
      "source": [
        "#Resumen del dataset\n",
        "\n",
        "print(\"Resumen dataset Red Wine Quality:\")\n",
        "print(\"--------------------------------\")\n",
        "df = pd.read_csv(\"winequality-red.csv\")\n",
        "df.head()"
      ],
      "metadata": {
        "colab": {
          "base_uri": "https://localhost:8080/",
          "height": 296
        },
        "id": "bwMy8L8XJCqX",
        "outputId": "69070a59-3f8b-4e43-f562-40d17458ae2d"
      },
      "execution_count": 3,
      "outputs": [
        {
          "output_type": "stream",
          "name": "stdout",
          "text": [
            "Resumen dataset Red Wine Quality:\n",
            "--------------------------------\n"
          ]
        },
        {
          "output_type": "execute_result",
          "data": {
            "text/plain": [
              "   fixed acidity  volatile acidity  citric acid  residual sugar  chlorides  \\\n",
              "0            7.4              0.70         0.00             1.9      0.076   \n",
              "1            7.8              0.88         0.00             2.6      0.098   \n",
              "2            7.8              0.76         0.04             2.3      0.092   \n",
              "3           11.2              0.28         0.56             1.9      0.075   \n",
              "4            7.4              0.70         0.00             1.9      0.076   \n",
              "\n",
              "   free sulfur dioxide  total sulfur dioxide  density    pH  sulphates  \\\n",
              "0                 11.0                  34.0   0.9978  3.51       0.56   \n",
              "1                 25.0                  67.0   0.9968  3.20       0.68   \n",
              "2                 15.0                  54.0   0.9970  3.26       0.65   \n",
              "3                 17.0                  60.0   0.9980  3.16       0.58   \n",
              "4                 11.0                  34.0   0.9978  3.51       0.56   \n",
              "\n",
              "   alcohol  quality  \n",
              "0      9.4        5  \n",
              "1      9.8        5  \n",
              "2      9.8        5  \n",
              "3      9.8        6  \n",
              "4      9.4        5  "
            ],
            "text/html": [
              "\n",
              "  <div id=\"df-0937eeb3-4375-46f1-91eb-1cac2eda6920\" class=\"colab-df-container\">\n",
              "    <div>\n",
              "<style scoped>\n",
              "    .dataframe tbody tr th:only-of-type {\n",
              "        vertical-align: middle;\n",
              "    }\n",
              "\n",
              "    .dataframe tbody tr th {\n",
              "        vertical-align: top;\n",
              "    }\n",
              "\n",
              "    .dataframe thead th {\n",
              "        text-align: right;\n",
              "    }\n",
              "</style>\n",
              "<table border=\"1\" class=\"dataframe\">\n",
              "  <thead>\n",
              "    <tr style=\"text-align: right;\">\n",
              "      <th></th>\n",
              "      <th>fixed acidity</th>\n",
              "      <th>volatile acidity</th>\n",
              "      <th>citric acid</th>\n",
              "      <th>residual sugar</th>\n",
              "      <th>chlorides</th>\n",
              "      <th>free sulfur dioxide</th>\n",
              "      <th>total sulfur dioxide</th>\n",
              "      <th>density</th>\n",
              "      <th>pH</th>\n",
              "      <th>sulphates</th>\n",
              "      <th>alcohol</th>\n",
              "      <th>quality</th>\n",
              "    </tr>\n",
              "  </thead>\n",
              "  <tbody>\n",
              "    <tr>\n",
              "      <th>0</th>\n",
              "      <td>7.4</td>\n",
              "      <td>0.70</td>\n",
              "      <td>0.00</td>\n",
              "      <td>1.9</td>\n",
              "      <td>0.076</td>\n",
              "      <td>11.0</td>\n",
              "      <td>34.0</td>\n",
              "      <td>0.9978</td>\n",
              "      <td>3.51</td>\n",
              "      <td>0.56</td>\n",
              "      <td>9.4</td>\n",
              "      <td>5</td>\n",
              "    </tr>\n",
              "    <tr>\n",
              "      <th>1</th>\n",
              "      <td>7.8</td>\n",
              "      <td>0.88</td>\n",
              "      <td>0.00</td>\n",
              "      <td>2.6</td>\n",
              "      <td>0.098</td>\n",
              "      <td>25.0</td>\n",
              "      <td>67.0</td>\n",
              "      <td>0.9968</td>\n",
              "      <td>3.20</td>\n",
              "      <td>0.68</td>\n",
              "      <td>9.8</td>\n",
              "      <td>5</td>\n",
              "    </tr>\n",
              "    <tr>\n",
              "      <th>2</th>\n",
              "      <td>7.8</td>\n",
              "      <td>0.76</td>\n",
              "      <td>0.04</td>\n",
              "      <td>2.3</td>\n",
              "      <td>0.092</td>\n",
              "      <td>15.0</td>\n",
              "      <td>54.0</td>\n",
              "      <td>0.9970</td>\n",
              "      <td>3.26</td>\n",
              "      <td>0.65</td>\n",
              "      <td>9.8</td>\n",
              "      <td>5</td>\n",
              "    </tr>\n",
              "    <tr>\n",
              "      <th>3</th>\n",
              "      <td>11.2</td>\n",
              "      <td>0.28</td>\n",
              "      <td>0.56</td>\n",
              "      <td>1.9</td>\n",
              "      <td>0.075</td>\n",
              "      <td>17.0</td>\n",
              "      <td>60.0</td>\n",
              "      <td>0.9980</td>\n",
              "      <td>3.16</td>\n",
              "      <td>0.58</td>\n",
              "      <td>9.8</td>\n",
              "      <td>6</td>\n",
              "    </tr>\n",
              "    <tr>\n",
              "      <th>4</th>\n",
              "      <td>7.4</td>\n",
              "      <td>0.70</td>\n",
              "      <td>0.00</td>\n",
              "      <td>1.9</td>\n",
              "      <td>0.076</td>\n",
              "      <td>11.0</td>\n",
              "      <td>34.0</td>\n",
              "      <td>0.9978</td>\n",
              "      <td>3.51</td>\n",
              "      <td>0.56</td>\n",
              "      <td>9.4</td>\n",
              "      <td>5</td>\n",
              "    </tr>\n",
              "  </tbody>\n",
              "</table>\n",
              "</div>\n",
              "    <div class=\"colab-df-buttons\">\n",
              "\n",
              "  <div class=\"colab-df-container\">\n",
              "    <button class=\"colab-df-convert\" onclick=\"convertToInteractive('df-0937eeb3-4375-46f1-91eb-1cac2eda6920')\"\n",
              "            title=\"Convert this dataframe to an interactive table.\"\n",
              "            style=\"display:none;\">\n",
              "\n",
              "  <svg xmlns=\"http://www.w3.org/2000/svg\" height=\"24px\" viewBox=\"0 -960 960 960\">\n",
              "    <path d=\"M120-120v-720h720v720H120Zm60-500h600v-160H180v160Zm220 220h160v-160H400v160Zm0 220h160v-160H400v160ZM180-400h160v-160H180v160Zm440 0h160v-160H620v160ZM180-180h160v-160H180v160Zm440 0h160v-160H620v160Z\"/>\n",
              "  </svg>\n",
              "    </button>\n",
              "\n",
              "  <style>\n",
              "    .colab-df-container {\n",
              "      display:flex;\n",
              "      gap: 12px;\n",
              "    }\n",
              "\n",
              "    .colab-df-convert {\n",
              "      background-color: #E8F0FE;\n",
              "      border: none;\n",
              "      border-radius: 50%;\n",
              "      cursor: pointer;\n",
              "      display: none;\n",
              "      fill: #1967D2;\n",
              "      height: 32px;\n",
              "      padding: 0 0 0 0;\n",
              "      width: 32px;\n",
              "    }\n",
              "\n",
              "    .colab-df-convert:hover {\n",
              "      background-color: #E2EBFA;\n",
              "      box-shadow: 0px 1px 2px rgba(60, 64, 67, 0.3), 0px 1px 3px 1px rgba(60, 64, 67, 0.15);\n",
              "      fill: #174EA6;\n",
              "    }\n",
              "\n",
              "    .colab-df-buttons div {\n",
              "      margin-bottom: 4px;\n",
              "    }\n",
              "\n",
              "    [theme=dark] .colab-df-convert {\n",
              "      background-color: #3B4455;\n",
              "      fill: #D2E3FC;\n",
              "    }\n",
              "\n",
              "    [theme=dark] .colab-df-convert:hover {\n",
              "      background-color: #434B5C;\n",
              "      box-shadow: 0px 1px 3px 1px rgba(0, 0, 0, 0.15);\n",
              "      filter: drop-shadow(0px 1px 2px rgba(0, 0, 0, 0.3));\n",
              "      fill: #FFFFFF;\n",
              "    }\n",
              "  </style>\n",
              "\n",
              "    <script>\n",
              "      const buttonEl =\n",
              "        document.querySelector('#df-0937eeb3-4375-46f1-91eb-1cac2eda6920 button.colab-df-convert');\n",
              "      buttonEl.style.display =\n",
              "        google.colab.kernel.accessAllowed ? 'block' : 'none';\n",
              "\n",
              "      async function convertToInteractive(key) {\n",
              "        const element = document.querySelector('#df-0937eeb3-4375-46f1-91eb-1cac2eda6920');\n",
              "        const dataTable =\n",
              "          await google.colab.kernel.invokeFunction('convertToInteractive',\n",
              "                                                    [key], {});\n",
              "        if (!dataTable) return;\n",
              "\n",
              "        const docLinkHtml = 'Like what you see? Visit the ' +\n",
              "          '<a target=\"_blank\" href=https://colab.research.google.com/notebooks/data_table.ipynb>data table notebook</a>'\n",
              "          + ' to learn more about interactive tables.';\n",
              "        element.innerHTML = '';\n",
              "        dataTable['output_type'] = 'display_data';\n",
              "        await google.colab.output.renderOutput(dataTable, element);\n",
              "        const docLink = document.createElement('div');\n",
              "        docLink.innerHTML = docLinkHtml;\n",
              "        element.appendChild(docLink);\n",
              "      }\n",
              "    </script>\n",
              "  </div>\n",
              "\n",
              "\n",
              "<div id=\"df-cfbac070-898a-4723-b226-4c6dd03833b3\">\n",
              "  <button class=\"colab-df-quickchart\" onclick=\"quickchart('df-cfbac070-898a-4723-b226-4c6dd03833b3')\"\n",
              "            title=\"Suggest charts\"\n",
              "            style=\"display:none;\">\n",
              "\n",
              "<svg xmlns=\"http://www.w3.org/2000/svg\" height=\"24px\"viewBox=\"0 0 24 24\"\n",
              "     width=\"24px\">\n",
              "    <g>\n",
              "        <path d=\"M19 3H5c-1.1 0-2 .9-2 2v14c0 1.1.9 2 2 2h14c1.1 0 2-.9 2-2V5c0-1.1-.9-2-2-2zM9 17H7v-7h2v7zm4 0h-2V7h2v10zm4 0h-2v-4h2v4z\"/>\n",
              "    </g>\n",
              "</svg>\n",
              "  </button>\n",
              "\n",
              "<style>\n",
              "  .colab-df-quickchart {\n",
              "      --bg-color: #E8F0FE;\n",
              "      --fill-color: #1967D2;\n",
              "      --hover-bg-color: #E2EBFA;\n",
              "      --hover-fill-color: #174EA6;\n",
              "      --disabled-fill-color: #AAA;\n",
              "      --disabled-bg-color: #DDD;\n",
              "  }\n",
              "\n",
              "  [theme=dark] .colab-df-quickchart {\n",
              "      --bg-color: #3B4455;\n",
              "      --fill-color: #D2E3FC;\n",
              "      --hover-bg-color: #434B5C;\n",
              "      --hover-fill-color: #FFFFFF;\n",
              "      --disabled-bg-color: #3B4455;\n",
              "      --disabled-fill-color: #666;\n",
              "  }\n",
              "\n",
              "  .colab-df-quickchart {\n",
              "    background-color: var(--bg-color);\n",
              "    border: none;\n",
              "    border-radius: 50%;\n",
              "    cursor: pointer;\n",
              "    display: none;\n",
              "    fill: var(--fill-color);\n",
              "    height: 32px;\n",
              "    padding: 0;\n",
              "    width: 32px;\n",
              "  }\n",
              "\n",
              "  .colab-df-quickchart:hover {\n",
              "    background-color: var(--hover-bg-color);\n",
              "    box-shadow: 0 1px 2px rgba(60, 64, 67, 0.3), 0 1px 3px 1px rgba(60, 64, 67, 0.15);\n",
              "    fill: var(--button-hover-fill-color);\n",
              "  }\n",
              "\n",
              "  .colab-df-quickchart-complete:disabled,\n",
              "  .colab-df-quickchart-complete:disabled:hover {\n",
              "    background-color: var(--disabled-bg-color);\n",
              "    fill: var(--disabled-fill-color);\n",
              "    box-shadow: none;\n",
              "  }\n",
              "\n",
              "  .colab-df-spinner {\n",
              "    border: 2px solid var(--fill-color);\n",
              "    border-color: transparent;\n",
              "    border-bottom-color: var(--fill-color);\n",
              "    animation:\n",
              "      spin 1s steps(1) infinite;\n",
              "  }\n",
              "\n",
              "  @keyframes spin {\n",
              "    0% {\n",
              "      border-color: transparent;\n",
              "      border-bottom-color: var(--fill-color);\n",
              "      border-left-color: var(--fill-color);\n",
              "    }\n",
              "    20% {\n",
              "      border-color: transparent;\n",
              "      border-left-color: var(--fill-color);\n",
              "      border-top-color: var(--fill-color);\n",
              "    }\n",
              "    30% {\n",
              "      border-color: transparent;\n",
              "      border-left-color: var(--fill-color);\n",
              "      border-top-color: var(--fill-color);\n",
              "      border-right-color: var(--fill-color);\n",
              "    }\n",
              "    40% {\n",
              "      border-color: transparent;\n",
              "      border-right-color: var(--fill-color);\n",
              "      border-top-color: var(--fill-color);\n",
              "    }\n",
              "    60% {\n",
              "      border-color: transparent;\n",
              "      border-right-color: var(--fill-color);\n",
              "    }\n",
              "    80% {\n",
              "      border-color: transparent;\n",
              "      border-right-color: var(--fill-color);\n",
              "      border-bottom-color: var(--fill-color);\n",
              "    }\n",
              "    90% {\n",
              "      border-color: transparent;\n",
              "      border-bottom-color: var(--fill-color);\n",
              "    }\n",
              "  }\n",
              "</style>\n",
              "\n",
              "  <script>\n",
              "    async function quickchart(key) {\n",
              "      const quickchartButtonEl =\n",
              "        document.querySelector('#' + key + ' button');\n",
              "      quickchartButtonEl.disabled = true;  // To prevent multiple clicks.\n",
              "      quickchartButtonEl.classList.add('colab-df-spinner');\n",
              "      try {\n",
              "        const charts = await google.colab.kernel.invokeFunction(\n",
              "            'suggestCharts', [key], {});\n",
              "      } catch (error) {\n",
              "        console.error('Error during call to suggestCharts:', error);\n",
              "      }\n",
              "      quickchartButtonEl.classList.remove('colab-df-spinner');\n",
              "      quickchartButtonEl.classList.add('colab-df-quickchart-complete');\n",
              "    }\n",
              "    (() => {\n",
              "      let quickchartButtonEl =\n",
              "        document.querySelector('#df-cfbac070-898a-4723-b226-4c6dd03833b3 button');\n",
              "      quickchartButtonEl.style.display =\n",
              "        google.colab.kernel.accessAllowed ? 'block' : 'none';\n",
              "    })();\n",
              "  </script>\n",
              "</div>\n",
              "\n",
              "    </div>\n",
              "  </div>\n"
            ],
            "application/vnd.google.colaboratory.intrinsic+json": {
              "type": "dataframe",
              "variable_name": "df",
              "summary": "{\n  \"name\": \"df\",\n  \"rows\": 1599,\n  \"fields\": [\n    {\n      \"column\": \"fixed acidity\",\n      \"properties\": {\n        \"dtype\": \"number\",\n        \"std\": 1.7410963181276953,\n        \"min\": 4.6,\n        \"max\": 15.9,\n        \"num_unique_values\": 96,\n        \"samples\": [\n          5.3,\n          12.7,\n          12.6\n        ],\n        \"semantic_type\": \"\",\n        \"description\": \"\"\n      }\n    },\n    {\n      \"column\": \"volatile acidity\",\n      \"properties\": {\n        \"dtype\": \"number\",\n        \"std\": 0.17905970415353537,\n        \"min\": 0.12,\n        \"max\": 1.58,\n        \"num_unique_values\": 143,\n        \"samples\": [\n          1.025,\n          0.4,\n          0.87\n        ],\n        \"semantic_type\": \"\",\n        \"description\": \"\"\n      }\n    },\n    {\n      \"column\": \"citric acid\",\n      \"properties\": {\n        \"dtype\": \"number\",\n        \"std\": 0.19480113740531857,\n        \"min\": 0.0,\n        \"max\": 1.0,\n        \"num_unique_values\": 80,\n        \"samples\": [\n          0.37,\n          0.0,\n          0.09\n        ],\n        \"semantic_type\": \"\",\n        \"description\": \"\"\n      }\n    },\n    {\n      \"column\": \"residual sugar\",\n      \"properties\": {\n        \"dtype\": \"number\",\n        \"std\": 1.4099280595072798,\n        \"min\": 0.9,\n        \"max\": 15.5,\n        \"num_unique_values\": 91,\n        \"samples\": [\n          11.0,\n          3.0,\n          15.5\n        ],\n        \"semantic_type\": \"\",\n        \"description\": \"\"\n      }\n    },\n    {\n      \"column\": \"chlorides\",\n      \"properties\": {\n        \"dtype\": \"number\",\n        \"std\": 0.0470653020100901,\n        \"min\": 0.012,\n        \"max\": 0.611,\n        \"num_unique_values\": 153,\n        \"samples\": [\n          0.096,\n          0.3429999999999999,\n          0.159\n        ],\n        \"semantic_type\": \"\",\n        \"description\": \"\"\n      }\n    },\n    {\n      \"column\": \"free sulfur dioxide\",\n      \"properties\": {\n        \"dtype\": \"number\",\n        \"std\": 10.460156969809725,\n        \"min\": 1.0,\n        \"max\": 72.0,\n        \"num_unique_values\": 60,\n        \"samples\": [\n          11.0,\n          9.0,\n          32.0\n        ],\n        \"semantic_type\": \"\",\n        \"description\": \"\"\n      }\n    },\n    {\n      \"column\": \"total sulfur dioxide\",\n      \"properties\": {\n        \"dtype\": \"number\",\n        \"std\": 32.895324478299074,\n        \"min\": 6.0,\n        \"max\": 289.0,\n        \"num_unique_values\": 144,\n        \"samples\": [\n          68.0,\n          35.0,\n          101.0\n        ],\n        \"semantic_type\": \"\",\n        \"description\": \"\"\n      }\n    },\n    {\n      \"column\": \"density\",\n      \"properties\": {\n        \"dtype\": \"number\",\n        \"std\": 0.0018873339538425554,\n        \"min\": 0.99007,\n        \"max\": 1.00369,\n        \"num_unique_values\": 436,\n        \"samples\": [\n          0.99974,\n          1.0001,\n          0.99471\n        ],\n        \"semantic_type\": \"\",\n        \"description\": \"\"\n      }\n    },\n    {\n      \"column\": \"pH\",\n      \"properties\": {\n        \"dtype\": \"number\",\n        \"std\": 0.15438646490354277,\n        \"min\": 2.74,\n        \"max\": 4.01,\n        \"num_unique_values\": 89,\n        \"samples\": [\n          3.07,\n          3.0,\n          3.15\n        ],\n        \"semantic_type\": \"\",\n        \"description\": \"\"\n      }\n    },\n    {\n      \"column\": \"sulphates\",\n      \"properties\": {\n        \"dtype\": \"number\",\n        \"std\": 0.16950697959010996,\n        \"min\": 0.33,\n        \"max\": 2.0,\n        \"num_unique_values\": 96,\n        \"samples\": [\n          1.07,\n          1.04,\n          1.18\n        ],\n        \"semantic_type\": \"\",\n        \"description\": \"\"\n      }\n    },\n    {\n      \"column\": \"alcohol\",\n      \"properties\": {\n        \"dtype\": \"number\",\n        \"std\": 1.0656675818473946,\n        \"min\": 8.4,\n        \"max\": 14.9,\n        \"num_unique_values\": 65,\n        \"samples\": [\n          8.5,\n          9.95,\n          9.4\n        ],\n        \"semantic_type\": \"\",\n        \"description\": \"\"\n      }\n    },\n    {\n      \"column\": \"quality\",\n      \"properties\": {\n        \"dtype\": \"number\",\n        \"std\": 0,\n        \"min\": 3,\n        \"max\": 8,\n        \"num_unique_values\": 6,\n        \"samples\": [\n          5,\n          6,\n          3\n        ],\n        \"semantic_type\": \"\",\n        \"description\": \"\"\n      }\n    }\n  ]\n}"
            }
          },
          "metadata": {},
          "execution_count": 3
        }
      ]
    },
    {
      "cell_type": "code",
      "source": [
        "#Estadísticas descriptivas:\n",
        "\n",
        "print(\"Estadísticas descriptivas:\")\n",
        "print(\"--------------------------\")\n",
        "df.describe()"
      ],
      "metadata": {
        "id": "Olk0bji297ee",
        "colab": {
          "base_uri": "https://localhost:8080/",
          "height": 390
        },
        "outputId": "9362842a-215f-44ca-8f75-32ea9f4a0bc8"
      },
      "execution_count": 4,
      "outputs": [
        {
          "output_type": "stream",
          "name": "stdout",
          "text": [
            "Estadísticas descriptivas:\n",
            "--------------------------\n"
          ]
        },
        {
          "output_type": "execute_result",
          "data": {
            "text/plain": [
              "       fixed acidity  volatile acidity  citric acid  residual sugar  \\\n",
              "count    1599.000000       1599.000000  1599.000000     1599.000000   \n",
              "mean        8.319637          0.527821     0.270976        2.538806   \n",
              "std         1.741096          0.179060     0.194801        1.409928   \n",
              "min         4.600000          0.120000     0.000000        0.900000   \n",
              "25%         7.100000          0.390000     0.090000        1.900000   \n",
              "50%         7.900000          0.520000     0.260000        2.200000   \n",
              "75%         9.200000          0.640000     0.420000        2.600000   \n",
              "max        15.900000          1.580000     1.000000       15.500000   \n",
              "\n",
              "         chlorides  free sulfur dioxide  total sulfur dioxide      density  \\\n",
              "count  1599.000000          1599.000000           1599.000000  1599.000000   \n",
              "mean      0.087467            15.874922             46.467792     0.996747   \n",
              "std       0.047065            10.460157             32.895324     0.001887   \n",
              "min       0.012000             1.000000              6.000000     0.990070   \n",
              "25%       0.070000             7.000000             22.000000     0.995600   \n",
              "50%       0.079000            14.000000             38.000000     0.996750   \n",
              "75%       0.090000            21.000000             62.000000     0.997835   \n",
              "max       0.611000            72.000000            289.000000     1.003690   \n",
              "\n",
              "                pH    sulphates      alcohol      quality  \n",
              "count  1599.000000  1599.000000  1599.000000  1599.000000  \n",
              "mean      3.311113     0.658149    10.422983     5.636023  \n",
              "std       0.154386     0.169507     1.065668     0.807569  \n",
              "min       2.740000     0.330000     8.400000     3.000000  \n",
              "25%       3.210000     0.550000     9.500000     5.000000  \n",
              "50%       3.310000     0.620000    10.200000     6.000000  \n",
              "75%       3.400000     0.730000    11.100000     6.000000  \n",
              "max       4.010000     2.000000    14.900000     8.000000  "
            ],
            "text/html": [
              "\n",
              "  <div id=\"df-03380aca-3353-4d92-a910-8e416d14382e\" class=\"colab-df-container\">\n",
              "    <div>\n",
              "<style scoped>\n",
              "    .dataframe tbody tr th:only-of-type {\n",
              "        vertical-align: middle;\n",
              "    }\n",
              "\n",
              "    .dataframe tbody tr th {\n",
              "        vertical-align: top;\n",
              "    }\n",
              "\n",
              "    .dataframe thead th {\n",
              "        text-align: right;\n",
              "    }\n",
              "</style>\n",
              "<table border=\"1\" class=\"dataframe\">\n",
              "  <thead>\n",
              "    <tr style=\"text-align: right;\">\n",
              "      <th></th>\n",
              "      <th>fixed acidity</th>\n",
              "      <th>volatile acidity</th>\n",
              "      <th>citric acid</th>\n",
              "      <th>residual sugar</th>\n",
              "      <th>chlorides</th>\n",
              "      <th>free sulfur dioxide</th>\n",
              "      <th>total sulfur dioxide</th>\n",
              "      <th>density</th>\n",
              "      <th>pH</th>\n",
              "      <th>sulphates</th>\n",
              "      <th>alcohol</th>\n",
              "      <th>quality</th>\n",
              "    </tr>\n",
              "  </thead>\n",
              "  <tbody>\n",
              "    <tr>\n",
              "      <th>count</th>\n",
              "      <td>1599.000000</td>\n",
              "      <td>1599.000000</td>\n",
              "      <td>1599.000000</td>\n",
              "      <td>1599.000000</td>\n",
              "      <td>1599.000000</td>\n",
              "      <td>1599.000000</td>\n",
              "      <td>1599.000000</td>\n",
              "      <td>1599.000000</td>\n",
              "      <td>1599.000000</td>\n",
              "      <td>1599.000000</td>\n",
              "      <td>1599.000000</td>\n",
              "      <td>1599.000000</td>\n",
              "    </tr>\n",
              "    <tr>\n",
              "      <th>mean</th>\n",
              "      <td>8.319637</td>\n",
              "      <td>0.527821</td>\n",
              "      <td>0.270976</td>\n",
              "      <td>2.538806</td>\n",
              "      <td>0.087467</td>\n",
              "      <td>15.874922</td>\n",
              "      <td>46.467792</td>\n",
              "      <td>0.996747</td>\n",
              "      <td>3.311113</td>\n",
              "      <td>0.658149</td>\n",
              "      <td>10.422983</td>\n",
              "      <td>5.636023</td>\n",
              "    </tr>\n",
              "    <tr>\n",
              "      <th>std</th>\n",
              "      <td>1.741096</td>\n",
              "      <td>0.179060</td>\n",
              "      <td>0.194801</td>\n",
              "      <td>1.409928</td>\n",
              "      <td>0.047065</td>\n",
              "      <td>10.460157</td>\n",
              "      <td>32.895324</td>\n",
              "      <td>0.001887</td>\n",
              "      <td>0.154386</td>\n",
              "      <td>0.169507</td>\n",
              "      <td>1.065668</td>\n",
              "      <td>0.807569</td>\n",
              "    </tr>\n",
              "    <tr>\n",
              "      <th>min</th>\n",
              "      <td>4.600000</td>\n",
              "      <td>0.120000</td>\n",
              "      <td>0.000000</td>\n",
              "      <td>0.900000</td>\n",
              "      <td>0.012000</td>\n",
              "      <td>1.000000</td>\n",
              "      <td>6.000000</td>\n",
              "      <td>0.990070</td>\n",
              "      <td>2.740000</td>\n",
              "      <td>0.330000</td>\n",
              "      <td>8.400000</td>\n",
              "      <td>3.000000</td>\n",
              "    </tr>\n",
              "    <tr>\n",
              "      <th>25%</th>\n",
              "      <td>7.100000</td>\n",
              "      <td>0.390000</td>\n",
              "      <td>0.090000</td>\n",
              "      <td>1.900000</td>\n",
              "      <td>0.070000</td>\n",
              "      <td>7.000000</td>\n",
              "      <td>22.000000</td>\n",
              "      <td>0.995600</td>\n",
              "      <td>3.210000</td>\n",
              "      <td>0.550000</td>\n",
              "      <td>9.500000</td>\n",
              "      <td>5.000000</td>\n",
              "    </tr>\n",
              "    <tr>\n",
              "      <th>50%</th>\n",
              "      <td>7.900000</td>\n",
              "      <td>0.520000</td>\n",
              "      <td>0.260000</td>\n",
              "      <td>2.200000</td>\n",
              "      <td>0.079000</td>\n",
              "      <td>14.000000</td>\n",
              "      <td>38.000000</td>\n",
              "      <td>0.996750</td>\n",
              "      <td>3.310000</td>\n",
              "      <td>0.620000</td>\n",
              "      <td>10.200000</td>\n",
              "      <td>6.000000</td>\n",
              "    </tr>\n",
              "    <tr>\n",
              "      <th>75%</th>\n",
              "      <td>9.200000</td>\n",
              "      <td>0.640000</td>\n",
              "      <td>0.420000</td>\n",
              "      <td>2.600000</td>\n",
              "      <td>0.090000</td>\n",
              "      <td>21.000000</td>\n",
              "      <td>62.000000</td>\n",
              "      <td>0.997835</td>\n",
              "      <td>3.400000</td>\n",
              "      <td>0.730000</td>\n",
              "      <td>11.100000</td>\n",
              "      <td>6.000000</td>\n",
              "    </tr>\n",
              "    <tr>\n",
              "      <th>max</th>\n",
              "      <td>15.900000</td>\n",
              "      <td>1.580000</td>\n",
              "      <td>1.000000</td>\n",
              "      <td>15.500000</td>\n",
              "      <td>0.611000</td>\n",
              "      <td>72.000000</td>\n",
              "      <td>289.000000</td>\n",
              "      <td>1.003690</td>\n",
              "      <td>4.010000</td>\n",
              "      <td>2.000000</td>\n",
              "      <td>14.900000</td>\n",
              "      <td>8.000000</td>\n",
              "    </tr>\n",
              "  </tbody>\n",
              "</table>\n",
              "</div>\n",
              "    <div class=\"colab-df-buttons\">\n",
              "\n",
              "  <div class=\"colab-df-container\">\n",
              "    <button class=\"colab-df-convert\" onclick=\"convertToInteractive('df-03380aca-3353-4d92-a910-8e416d14382e')\"\n",
              "            title=\"Convert this dataframe to an interactive table.\"\n",
              "            style=\"display:none;\">\n",
              "\n",
              "  <svg xmlns=\"http://www.w3.org/2000/svg\" height=\"24px\" viewBox=\"0 -960 960 960\">\n",
              "    <path d=\"M120-120v-720h720v720H120Zm60-500h600v-160H180v160Zm220 220h160v-160H400v160Zm0 220h160v-160H400v160ZM180-400h160v-160H180v160Zm440 0h160v-160H620v160ZM180-180h160v-160H180v160Zm440 0h160v-160H620v160Z\"/>\n",
              "  </svg>\n",
              "    </button>\n",
              "\n",
              "  <style>\n",
              "    .colab-df-container {\n",
              "      display:flex;\n",
              "      gap: 12px;\n",
              "    }\n",
              "\n",
              "    .colab-df-convert {\n",
              "      background-color: #E8F0FE;\n",
              "      border: none;\n",
              "      border-radius: 50%;\n",
              "      cursor: pointer;\n",
              "      display: none;\n",
              "      fill: #1967D2;\n",
              "      height: 32px;\n",
              "      padding: 0 0 0 0;\n",
              "      width: 32px;\n",
              "    }\n",
              "\n",
              "    .colab-df-convert:hover {\n",
              "      background-color: #E2EBFA;\n",
              "      box-shadow: 0px 1px 2px rgba(60, 64, 67, 0.3), 0px 1px 3px 1px rgba(60, 64, 67, 0.15);\n",
              "      fill: #174EA6;\n",
              "    }\n",
              "\n",
              "    .colab-df-buttons div {\n",
              "      margin-bottom: 4px;\n",
              "    }\n",
              "\n",
              "    [theme=dark] .colab-df-convert {\n",
              "      background-color: #3B4455;\n",
              "      fill: #D2E3FC;\n",
              "    }\n",
              "\n",
              "    [theme=dark] .colab-df-convert:hover {\n",
              "      background-color: #434B5C;\n",
              "      box-shadow: 0px 1px 3px 1px rgba(0, 0, 0, 0.15);\n",
              "      filter: drop-shadow(0px 1px 2px rgba(0, 0, 0, 0.3));\n",
              "      fill: #FFFFFF;\n",
              "    }\n",
              "  </style>\n",
              "\n",
              "    <script>\n",
              "      const buttonEl =\n",
              "        document.querySelector('#df-03380aca-3353-4d92-a910-8e416d14382e button.colab-df-convert');\n",
              "      buttonEl.style.display =\n",
              "        google.colab.kernel.accessAllowed ? 'block' : 'none';\n",
              "\n",
              "      async function convertToInteractive(key) {\n",
              "        const element = document.querySelector('#df-03380aca-3353-4d92-a910-8e416d14382e');\n",
              "        const dataTable =\n",
              "          await google.colab.kernel.invokeFunction('convertToInteractive',\n",
              "                                                    [key], {});\n",
              "        if (!dataTable) return;\n",
              "\n",
              "        const docLinkHtml = 'Like what you see? Visit the ' +\n",
              "          '<a target=\"_blank\" href=https://colab.research.google.com/notebooks/data_table.ipynb>data table notebook</a>'\n",
              "          + ' to learn more about interactive tables.';\n",
              "        element.innerHTML = '';\n",
              "        dataTable['output_type'] = 'display_data';\n",
              "        await google.colab.output.renderOutput(dataTable, element);\n",
              "        const docLink = document.createElement('div');\n",
              "        docLink.innerHTML = docLinkHtml;\n",
              "        element.appendChild(docLink);\n",
              "      }\n",
              "    </script>\n",
              "  </div>\n",
              "\n",
              "\n",
              "<div id=\"df-4f1f4775-e46b-4c0f-852d-fcbf61a9998a\">\n",
              "  <button class=\"colab-df-quickchart\" onclick=\"quickchart('df-4f1f4775-e46b-4c0f-852d-fcbf61a9998a')\"\n",
              "            title=\"Suggest charts\"\n",
              "            style=\"display:none;\">\n",
              "\n",
              "<svg xmlns=\"http://www.w3.org/2000/svg\" height=\"24px\"viewBox=\"0 0 24 24\"\n",
              "     width=\"24px\">\n",
              "    <g>\n",
              "        <path d=\"M19 3H5c-1.1 0-2 .9-2 2v14c0 1.1.9 2 2 2h14c1.1 0 2-.9 2-2V5c0-1.1-.9-2-2-2zM9 17H7v-7h2v7zm4 0h-2V7h2v10zm4 0h-2v-4h2v4z\"/>\n",
              "    </g>\n",
              "</svg>\n",
              "  </button>\n",
              "\n",
              "<style>\n",
              "  .colab-df-quickchart {\n",
              "      --bg-color: #E8F0FE;\n",
              "      --fill-color: #1967D2;\n",
              "      --hover-bg-color: #E2EBFA;\n",
              "      --hover-fill-color: #174EA6;\n",
              "      --disabled-fill-color: #AAA;\n",
              "      --disabled-bg-color: #DDD;\n",
              "  }\n",
              "\n",
              "  [theme=dark] .colab-df-quickchart {\n",
              "      --bg-color: #3B4455;\n",
              "      --fill-color: #D2E3FC;\n",
              "      --hover-bg-color: #434B5C;\n",
              "      --hover-fill-color: #FFFFFF;\n",
              "      --disabled-bg-color: #3B4455;\n",
              "      --disabled-fill-color: #666;\n",
              "  }\n",
              "\n",
              "  .colab-df-quickchart {\n",
              "    background-color: var(--bg-color);\n",
              "    border: none;\n",
              "    border-radius: 50%;\n",
              "    cursor: pointer;\n",
              "    display: none;\n",
              "    fill: var(--fill-color);\n",
              "    height: 32px;\n",
              "    padding: 0;\n",
              "    width: 32px;\n",
              "  }\n",
              "\n",
              "  .colab-df-quickchart:hover {\n",
              "    background-color: var(--hover-bg-color);\n",
              "    box-shadow: 0 1px 2px rgba(60, 64, 67, 0.3), 0 1px 3px 1px rgba(60, 64, 67, 0.15);\n",
              "    fill: var(--button-hover-fill-color);\n",
              "  }\n",
              "\n",
              "  .colab-df-quickchart-complete:disabled,\n",
              "  .colab-df-quickchart-complete:disabled:hover {\n",
              "    background-color: var(--disabled-bg-color);\n",
              "    fill: var(--disabled-fill-color);\n",
              "    box-shadow: none;\n",
              "  }\n",
              "\n",
              "  .colab-df-spinner {\n",
              "    border: 2px solid var(--fill-color);\n",
              "    border-color: transparent;\n",
              "    border-bottom-color: var(--fill-color);\n",
              "    animation:\n",
              "      spin 1s steps(1) infinite;\n",
              "  }\n",
              "\n",
              "  @keyframes spin {\n",
              "    0% {\n",
              "      border-color: transparent;\n",
              "      border-bottom-color: var(--fill-color);\n",
              "      border-left-color: var(--fill-color);\n",
              "    }\n",
              "    20% {\n",
              "      border-color: transparent;\n",
              "      border-left-color: var(--fill-color);\n",
              "      border-top-color: var(--fill-color);\n",
              "    }\n",
              "    30% {\n",
              "      border-color: transparent;\n",
              "      border-left-color: var(--fill-color);\n",
              "      border-top-color: var(--fill-color);\n",
              "      border-right-color: var(--fill-color);\n",
              "    }\n",
              "    40% {\n",
              "      border-color: transparent;\n",
              "      border-right-color: var(--fill-color);\n",
              "      border-top-color: var(--fill-color);\n",
              "    }\n",
              "    60% {\n",
              "      border-color: transparent;\n",
              "      border-right-color: var(--fill-color);\n",
              "    }\n",
              "    80% {\n",
              "      border-color: transparent;\n",
              "      border-right-color: var(--fill-color);\n",
              "      border-bottom-color: var(--fill-color);\n",
              "    }\n",
              "    90% {\n",
              "      border-color: transparent;\n",
              "      border-bottom-color: var(--fill-color);\n",
              "    }\n",
              "  }\n",
              "</style>\n",
              "\n",
              "  <script>\n",
              "    async function quickchart(key) {\n",
              "      const quickchartButtonEl =\n",
              "        document.querySelector('#' + key + ' button');\n",
              "      quickchartButtonEl.disabled = true;  // To prevent multiple clicks.\n",
              "      quickchartButtonEl.classList.add('colab-df-spinner');\n",
              "      try {\n",
              "        const charts = await google.colab.kernel.invokeFunction(\n",
              "            'suggestCharts', [key], {});\n",
              "      } catch (error) {\n",
              "        console.error('Error during call to suggestCharts:', error);\n",
              "      }\n",
              "      quickchartButtonEl.classList.remove('colab-df-spinner');\n",
              "      quickchartButtonEl.classList.add('colab-df-quickchart-complete');\n",
              "    }\n",
              "    (() => {\n",
              "      let quickchartButtonEl =\n",
              "        document.querySelector('#df-4f1f4775-e46b-4c0f-852d-fcbf61a9998a button');\n",
              "      quickchartButtonEl.style.display =\n",
              "        google.colab.kernel.accessAllowed ? 'block' : 'none';\n",
              "    })();\n",
              "  </script>\n",
              "</div>\n",
              "\n",
              "    </div>\n",
              "  </div>\n"
            ],
            "application/vnd.google.colaboratory.intrinsic+json": {
              "type": "dataframe",
              "summary": "{\n  \"name\": \"df\",\n  \"rows\": 8,\n  \"fields\": [\n    {\n      \"column\": \"fixed acidity\",\n      \"properties\": {\n        \"dtype\": \"number\",\n        \"std\": 562.5806745048905,\n        \"min\": 1.7410963181276953,\n        \"max\": 1599.0,\n        \"num_unique_values\": 8,\n        \"samples\": [\n          8.31963727329581,\n          7.9,\n          1599.0\n        ],\n        \"semantic_type\": \"\",\n        \"description\": \"\"\n      }\n    },\n    {\n      \"column\": \"volatile acidity\",\n      \"properties\": {\n        \"dtype\": \"number\",\n        \"std\": 565.1321980080039,\n        \"min\": 0.12,\n        \"max\": 1599.0,\n        \"num_unique_values\": 8,\n        \"samples\": [\n          0.5278205128205128,\n          0.52,\n          1599.0\n        ],\n        \"semantic_type\": \"\",\n        \"description\": \"\"\n      }\n    },\n    {\n      \"column\": \"citric acid\",\n      \"properties\": {\n        \"dtype\": \"number\",\n        \"std\": 565.2190298438521,\n        \"min\": 0.0,\n        \"max\": 1599.0,\n        \"num_unique_values\": 8,\n        \"samples\": [\n          0.2709756097560976,\n          0.26,\n          1599.0\n        ],\n        \"semantic_type\": \"\",\n        \"description\": \"\"\n      }\n    },\n    {\n      \"column\": \"residual sugar\",\n      \"properties\": {\n        \"dtype\": \"number\",\n        \"std\": 563.9859918397555,\n        \"min\": 0.9,\n        \"max\": 1599.0,\n        \"num_unique_values\": 8,\n        \"samples\": [\n          2.53880550343965,\n          2.2,\n          1599.0\n        ],\n        \"semantic_type\": \"\",\n        \"description\": \"\"\n      }\n    },\n    {\n      \"column\": \"chlorides\",\n      \"properties\": {\n        \"dtype\": \"number\",\n        \"std\": 565.2815720420849,\n        \"min\": 0.012,\n        \"max\": 1599.0,\n        \"num_unique_values\": 8,\n        \"samples\": [\n          0.08746654158849279,\n          0.079,\n          1599.0\n        ],\n        \"semantic_type\": \"\",\n        \"description\": \"\"\n      }\n    },\n    {\n      \"column\": \"free sulfur dioxide\",\n      \"properties\": {\n        \"dtype\": \"number\",\n        \"std\": 558.6255652064851,\n        \"min\": 1.0,\n        \"max\": 1599.0,\n        \"num_unique_values\": 8,\n        \"samples\": [\n          15.874921826141339,\n          14.0,\n          1599.0\n        ],\n        \"semantic_type\": \"\",\n        \"description\": \"\"\n      }\n    },\n    {\n      \"column\": \"total sulfur dioxide\",\n      \"properties\": {\n        \"dtype\": \"number\",\n        \"std\": 547.7946740169228,\n        \"min\": 6.0,\n        \"max\": 1599.0,\n        \"num_unique_values\": 8,\n        \"samples\": [\n          46.46779237023139,\n          38.0,\n          1599.0\n        ],\n        \"semantic_type\": \"\",\n        \"description\": \"\"\n      }\n    },\n    {\n      \"column\": \"density\",\n      \"properties\": {\n        \"dtype\": \"number\",\n        \"std\": 565.0298129526795,\n        \"min\": 0.0018873339538425554,\n        \"max\": 1599.0,\n        \"num_unique_values\": 8,\n        \"samples\": [\n          0.9967466791744841,\n          0.99675,\n          1599.0\n        ],\n        \"semantic_type\": \"\",\n        \"description\": \"\"\n      }\n    },\n    {\n      \"column\": \"pH\",\n      \"properties\": {\n        \"dtype\": \"number\",\n        \"std\": 564.3160746075234,\n        \"min\": 0.15438646490354277,\n        \"max\": 1599.0,\n        \"num_unique_values\": 8,\n        \"samples\": [\n          3.3111131957473416,\n          3.31,\n          1599.0\n        ],\n        \"semantic_type\": \"\",\n        \"description\": \"\"\n      }\n    },\n    {\n      \"column\": \"sulphates\",\n      \"properties\": {\n        \"dtype\": \"number\",\n        \"std\": 565.0766914059569,\n        \"min\": 0.16950697959010996,\n        \"max\": 1599.0,\n        \"num_unique_values\": 8,\n        \"samples\": [\n          0.6581488430268917,\n          0.62,\n          1599.0\n        ],\n        \"semantic_type\": \"\",\n        \"description\": \"\"\n      }\n    },\n    {\n      \"column\": \"alcohol\",\n      \"properties\": {\n        \"dtype\": \"number\",\n        \"std\": 562.0325260314485,\n        \"min\": 1.0656675818473946,\n        \"max\": 1599.0,\n        \"num_unique_values\": 8,\n        \"samples\": [\n          10.422983114446529,\n          10.2,\n          1599.0\n        ],\n        \"semantic_type\": \"\",\n        \"description\": \"\"\n      }\n    },\n    {\n      \"column\": \"quality\",\n      \"properties\": {\n        \"dtype\": \"number\",\n        \"std\": 563.5963817822505,\n        \"min\": 0.807569439734705,\n        \"max\": 1599.0,\n        \"num_unique_values\": 7,\n        \"samples\": [\n          1599.0,\n          5.6360225140712945,\n          6.0\n        ],\n        \"semantic_type\": \"\",\n        \"description\": \"\"\n      }\n    }\n  ]\n}"
            }
          },
          "metadata": {},
          "execution_count": 4
        }
      ]
    },
    {
      "cell_type": "markdown",
      "source": [
        "###*Pregunta 1:*"
      ],
      "metadata": {
        "id": "JmajF-b2Gumn"
      }
    },
    {
      "cell_type": "code",
      "source": [
        "#Utilizar métodos isnull y sum para ver cuantos datos faltantes hay en el dataframe:\n",
        "\n",
        "print(\"Cantidad de nulos por columna:\")\n",
        "print(\"------------------------------\")\n",
        "df.isnull().sum()\n"
      ],
      "metadata": {
        "colab": {
          "base_uri": "https://localhost:8080/"
        },
        "id": "m_lWL7YFD8ND",
        "outputId": "915353c3-f7ec-4513-ed43-16768c913fd6"
      },
      "execution_count": 5,
      "outputs": [
        {
          "output_type": "stream",
          "name": "stdout",
          "text": [
            "Cantidad de nulos por columna:\n",
            "------------------------------\n"
          ]
        },
        {
          "output_type": "execute_result",
          "data": {
            "text/plain": [
              "fixed acidity           0\n",
              "volatile acidity        0\n",
              "citric acid             0\n",
              "residual sugar          0\n",
              "chlorides               0\n",
              "free sulfur dioxide     0\n",
              "total sulfur dioxide    0\n",
              "density                 0\n",
              "pH                      0\n",
              "sulphates               0\n",
              "alcohol                 0\n",
              "quality                 0\n",
              "dtype: int64"
            ]
          },
          "metadata": {},
          "execution_count": 5
        }
      ]
    },
    {
      "cell_type": "markdown",
      "source": [
        "No existen datos nulos en este dataset."
      ],
      "metadata": {
        "id": "-G82ybYkEKuu"
      }
    },
    {
      "cell_type": "code",
      "source": [
        "#Corroborar si los datos de cada columna son correctos:\n",
        "\n",
        "print(\"Tipo de dato por columna:\")\n",
        "print(\"-------------------------\")\n",
        "df.info()"
      ],
      "metadata": {
        "colab": {
          "base_uri": "https://localhost:8080/"
        },
        "id": "Wht53BbWE1SU",
        "outputId": "302110d7-4361-478e-989b-1a55553b7f03"
      },
      "execution_count": 6,
      "outputs": [
        {
          "output_type": "stream",
          "name": "stdout",
          "text": [
            "Tipo de dato por columna:\n",
            "-------------------------\n",
            "<class 'pandas.core.frame.DataFrame'>\n",
            "RangeIndex: 1599 entries, 0 to 1598\n",
            "Data columns (total 12 columns):\n",
            " #   Column                Non-Null Count  Dtype  \n",
            "---  ------                --------------  -----  \n",
            " 0   fixed acidity         1599 non-null   float64\n",
            " 1   volatile acidity      1599 non-null   float64\n",
            " 2   citric acid           1599 non-null   float64\n",
            " 3   residual sugar        1599 non-null   float64\n",
            " 4   chlorides             1599 non-null   float64\n",
            " 5   free sulfur dioxide   1599 non-null   float64\n",
            " 6   total sulfur dioxide  1599 non-null   float64\n",
            " 7   density               1599 non-null   float64\n",
            " 8   pH                    1599 non-null   float64\n",
            " 9   sulphates             1599 non-null   float64\n",
            " 10  alcohol               1599 non-null   float64\n",
            " 11  quality               1599 non-null   int64  \n",
            "dtypes: float64(11), int64(1)\n",
            "memory usage: 150.0 KB\n"
          ]
        }
      ]
    },
    {
      "cell_type": "markdown",
      "source": [
        "Se verifica que todas las columnas están en formato de punto flotante, con la excepción de la columna \"Quality\", que toma valores enteros."
      ],
      "metadata": {
        "id": "DbdPLhR4Fe4H"
      }
    },
    {
      "cell_type": "markdown",
      "source": [
        "###*Pregunta 2:*"
      ],
      "metadata": {
        "id": "rY8MJSUmOEfl"
      }
    },
    {
      "cell_type": "code",
      "source": [
        "# Cree una nueva columna llamada 'good', que tome el valor de 1 en caso de que\n",
        "# la calidad del vino sea mayor o igual a 7 y que sea 0 en caso contrario:\n",
        "\n",
        "df[\"good\"] = df[\"quality\"].apply(lambda x: 1 if x >= 7 else 0)\n",
        "df['good'].value_counts()"
      ],
      "metadata": {
        "colab": {
          "base_uri": "https://localhost:8080/"
        },
        "id": "odQ2ygpvRnyb",
        "outputId": "189c70dc-426e-4d10-b684-17a402d4c21e"
      },
      "execution_count": 35,
      "outputs": [
        {
          "output_type": "execute_result",
          "data": {
            "text/plain": [
              "good\n",
              "0    1382\n",
              "1     217\n",
              "Name: count, dtype: int64"
            ]
          },
          "metadata": {},
          "execution_count": 35
        }
      ]
    },
    {
      "cell_type": "markdown",
      "source": [
        "###*Pregunta 3:*"
      ],
      "metadata": {
        "id": "Jcg-7b43Qnwm"
      }
    },
    {
      "cell_type": "code",
      "source": [
        "#Seccionar vinos de categoría 10:\n",
        "\n",
        "Vinos_cat_10= df[df['quality']==10]\n",
        "print(\"Cantidad de vinos categoría 10:\")\n",
        "print(\"-------------------------------\")\n",
        "print(len(Vinos_cat_10))\n"
      ],
      "metadata": {
        "colab": {
          "base_uri": "https://localhost:8080/"
        },
        "id": "GEvkx4X1Hxgm",
        "outputId": "24356da9-cac8-43c0-b89b-a6490a170219"
      },
      "execution_count": 8,
      "outputs": [
        {
          "output_type": "stream",
          "name": "stdout",
          "text": [
            "Cantidad de vinos categoría 10:\n",
            "-------------------------------\n",
            "0\n"
          ]
        }
      ]
    },
    {
      "cell_type": "markdown",
      "source": [
        "En el conjunto de datos de vinos analizados, no se encuentra ningún vino categorizado con el valor de 10."
      ],
      "metadata": {
        "id": "WNMKxVZjRCT9"
      }
    },
    {
      "cell_type": "code",
      "source": [
        "#Seccionar vinos de categoria 3:\n",
        "\n",
        "vinos_cat_3= df[df['quality']==3]\n",
        "print(\"Cantidad de vinos categoría 3:\")\n",
        "print(\"-------------------------------\")\n",
        "print(len(vinos_cat_3))\n"
      ],
      "metadata": {
        "colab": {
          "base_uri": "https://localhost:8080/"
        },
        "id": "1ZiXBEMnL1uT",
        "outputId": "369c74ee-4574-42d0-d133-d6cbb341cd89"
      },
      "execution_count": 9,
      "outputs": [
        {
          "output_type": "stream",
          "name": "stdout",
          "text": [
            "Cantidad de vinos categoría 3:\n",
            "-------------------------------\n",
            "10\n"
          ]
        }
      ]
    },
    {
      "cell_type": "markdown",
      "source": [
        "Hay un total de 10 vinos que han sido clasificados en la categoría 3."
      ],
      "metadata": {
        "id": "ZhBE_B4SSGvK"
      }
    },
    {
      "cell_type": "code",
      "source": [
        "#Cuantos vinos son considerados buenos según la columna 'good':\n",
        "\n",
        "print(\"Cantidad de vinos buenos en base a la columna good:\")\n",
        "print(\"---------------------------------------------------\")\n",
        "df['good'].value_counts()\n"
      ],
      "metadata": {
        "colab": {
          "base_uri": "https://localhost:8080/"
        },
        "id": "2sJQDNlqKRZO",
        "outputId": "08210b5f-b00c-4622-aae4-fc1175c4b94f"
      },
      "execution_count": 36,
      "outputs": [
        {
          "output_type": "stream",
          "name": "stdout",
          "text": [
            "Cantidad de vinos buenos en base a la columna good:\n",
            "---------------------------------------------------\n"
          ]
        },
        {
          "output_type": "execute_result",
          "data": {
            "text/plain": [
              "good\n",
              "0    1382\n",
              "1     217\n",
              "Name: count, dtype: int64"
            ]
          },
          "metadata": {},
          "execution_count": 36
        }
      ]
    },
    {
      "cell_type": "markdown",
      "source": [
        "Según lo definido en la pregunta 2 con respecto a los vinos buenos y malos, hay un total de 217 ejemplares buenos y 1382 ejemplares malos."
      ],
      "metadata": {
        "id": "6E51UmlmSblZ"
      }
    },
    {
      "cell_type": "code",
      "source": [
        "print(\"Porcentaje de vinos buenos en base a la columna 'good':\")\n",
        "print(\"-------------------------------------------------------\")\n",
        "df['good'].value_counts(normalize=True)*100"
      ],
      "metadata": {
        "colab": {
          "base_uri": "https://localhost:8080/"
        },
        "id": "H1Z4vuytTeZ9",
        "outputId": "9c43a680-e76d-4d17-ae6c-011c963be3c6"
      },
      "execution_count": 11,
      "outputs": [
        {
          "output_type": "stream",
          "name": "stdout",
          "text": [
            "Porcentaje de vinos buenos en base a la columna 'good':\n",
            "-------------------------------------------------------\n"
          ]
        },
        {
          "output_type": "execute_result",
          "data": {
            "text/plain": [
              "good\n",
              "0    86.429018\n",
              "1    13.570982\n",
              "Name: proportion, dtype: float64"
            ]
          },
          "metadata": {},
          "execution_count": 11
        }
      ]
    },
    {
      "cell_type": "markdown",
      "source": [
        "Expresado en porcentajes, la cantidad de vinos malos representan un 86,4% y los vinos buenos solo un 13,5%."
      ],
      "metadata": {
        "id": "I6i-qxWGTgCy"
      }
    },
    {
      "cell_type": "markdown",
      "source": [
        "###*Pregunta 4:*"
      ],
      "metadata": {
        "id": "gFH8bzQmUYyn"
      }
    },
    {
      "cell_type": "code",
      "source": [
        "#histograma de la variable 'good':\n",
        "\n",
        "hist= thinkstats2.Hist(df.good,label= 'Good')\n",
        "plt.xticks(range(int(min(df.good)), int(max(df.good))+1))\n",
        "thinkplot.Hist(hist, width=0.25)\n",
        "plt.title('Histograma de la variable Good')\n",
        "thinkplot.Show(xlabel='Vinos Malos y buenos',ylabel='Frecuencia')"
      ],
      "metadata": {
        "colab": {
          "base_uri": "https://localhost:8080/",
          "height": 490
        },
        "id": "rWvYMsoHWb6Y",
        "outputId": "3feafaa2-0008-4cf9-d6af-56c34688eca3"
      },
      "execution_count": 42,
      "outputs": [
        {
          "output_type": "display_data",
          "data": {
            "text/plain": [
              "<Figure size 640x480 with 1 Axes>"
            ],
            "image/png": "[encoded data removed]"
          },
          "metadata": {}
        },
        {
          "output_type": "display_data",
          "data": {
            "text/plain": [
              "<Figure size 800x600 with 0 Axes>"
            ]
          },
          "metadata": {}
        }
      ]
    },
    {
      "cell_type": "markdown",
      "source": [
        "El gráfico muestra que predominan los vinos de mala calidad en comparación con los de buena calidad. En términos de la distribución, este histograma muestra una distribución sesgada hacia la izquierda debido a la mayor cantidad de vinos clasificados como malos en comparación con los vinos clasificados como buenos."
      ],
      "metadata": {
        "id": "aZNQGOQAaU5f"
      }
    },
    {
      "cell_type": "code",
      "source": [
        "#Frecuencias de las categorías de la variable 'quality':\n",
        "\n",
        "df['quality'].value_counts()"
      ],
      "metadata": {
        "colab": {
          "base_uri": "https://localhost:8080/"
        },
        "id": "_3D4oBs9QgMD",
        "outputId": "99940926-6c1c-43c2-9b27-6671776d2828"
      },
      "execution_count": 13,
      "outputs": [
        {
          "output_type": "execute_result",
          "data": {
            "text/plain": [
              "quality\n",
              "5    681\n",
              "6    638\n",
              "7    199\n",
              "4     53\n",
              "8     18\n",
              "3     10\n",
              "Name: count, dtype: int64"
            ]
          },
          "metadata": {},
          "execution_count": 13
        }
      ]
    },
    {
      "cell_type": "code",
      "source": [
        "#Histograma de la variable 'quality':\n",
        "\n",
        "hist= thinkstats2.Hist(df.quality,label= 'Quality')\n",
        "thinkplot.Hist(hist)\n",
        "plt.title('Histograma de la variable Quality')\n",
        "thinkplot.Show(xlabel='Calidad por categoría',ylabel='Frecuencia')"
      ],
      "metadata": {
        "colab": {
          "base_uri": "https://localhost:8080/",
          "height": 490
        },
        "id": "3RPKx6opMEjY",
        "outputId": "225b0755-a971-4a72-ce6c-40b19913e8ed"
      },
      "execution_count": 41,
      "outputs": [
        {
          "output_type": "display_data",
          "data": {
            "text/plain": [
              "<Figure size 640x480 with 1 Axes>"
            ],
            "image/png": "[encoded data removed]"
          },
          "metadata": {}
        },
        {
          "output_type": "display_data",
          "data": {
            "text/plain": [
              "<Figure size 800x600 with 0 Axes>"
            ]
          },
          "metadata": {}
        }
      ]
    },
    {
      "cell_type": "markdown",
      "source": [
        "El gráfico muestra una distribución más o menos simétrica en torno a los valores de \"quality\" más comunes (5 y 6), con una disminución en la frecuencia hacia los extremos (3, 4, 7 y 8). Se puede observar que la mayoría de los vinos del estudio se encuentran en las categorías 5 y 6 en términos de calidad. Además, se nota que hay una cantidad menor de vinos clasificados en la categoría 7, pero esta cantidad supera a los vinos de mala calidad de las categorías 3 y 4, así como a los vinos de buena calidad de la categoría 8. No se observan vinos en las categorías 1, 2, 9 y 10, lo que sugiere que no hay vinos extremadamente malos ni extremadamente buenos en el conjunto de datos."
      ],
      "metadata": {
        "id": "nEvi0W1nVjDd"
      }
    },
    {
      "cell_type": "markdown",
      "source": [
        "###*Pregunta 5:*"
      ],
      "metadata": {
        "id": "NopvTzL5YiH5"
      }
    },
    {
      "cell_type": "code",
      "source": [
        "#Calcule el promedio y desviación estándar de cada columna del dataset, exceptuando la columna 'good':\n",
        "\n",
        "nuevo_df= df\n",
        "nuevo_df= nuevo_df.drop('good',axis=1)\n",
        "#Se crea un dataframe auxiliar en donde se elimina la columna good\n"
      ],
      "metadata": {
        "id": "HX1qG8lrPopK"
      },
      "execution_count": 15,
      "outputs": []
    },
    {
      "cell_type": "code",
      "source": [
        "#Promedio de cada variable:\n",
        "\n",
        "print(\"Promedio de las variables a excepción de 'good':\")\n",
        "print(\"------------------------------------------------\")\n",
        "promedio= nuevo_df.mean()\n",
        "print(promedio)"
      ],
      "metadata": {
        "colab": {
          "base_uri": "https://localhost:8080/"
        },
        "id": "ufW2ClnrRjdT",
        "outputId": "9390ccc8-dfe5-408f-e800-c8e4c1e0d146"
      },
      "execution_count": 16,
      "outputs": [
        {
          "output_type": "stream",
          "name": "stdout",
          "text": [
            "Promedio de las variables a excepción de 'good':\n",
            "------------------------------------------------\n",
            "fixed acidity            8.319637\n",
            "volatile acidity         0.527821\n",
            "citric acid              0.270976\n",
            "residual sugar           2.538806\n",
            "chlorides                0.087467\n",
            "free sulfur dioxide     15.874922\n",
            "total sulfur dioxide    46.467792\n",
            "density                  0.996747\n",
            "pH                       3.311113\n",
            "sulphates                0.658149\n",
            "alcohol                 10.422983\n",
            "quality                  5.636023\n",
            "dtype: float64\n"
          ]
        }
      ]
    },
    {
      "cell_type": "markdown",
      "source": [
        "La mayoría de las variables tienen valores que están en una escala similar, excepto por \"total sulfur dioxide\" que tiene valores más altos en comparación con las otras variables.\n",
        "\n",
        "Las variables \"volatile acidity\", \"citric acid\", \"chlorides\", \"density\" y \"sulphates\" tienen valores promedio de cero.\n",
        "\n",
        "El valor promedio de la variable \"quality\" es de alrededor de 5.64, lo que sugiere que la calidad del vino se concentra en la categoría 5.\n",
        "\n",
        "La cantidad promedio de \"total sulfur dioxide\" es mucho mayor que la de las otras variables, lo que podría indicar que hay una mayor variación o que la mayoría de los valores tienden a ser más altos en esta variable."
      ],
      "metadata": {
        "id": "a-qYRNwZSZx4"
      }
    },
    {
      "cell_type": "code",
      "source": [
        "#Desviación estandar de cada variable:\n",
        "\n",
        "print(\"Desviación estandar de las variables a excepción de 'good':\")\n",
        "print(\"-----------------------------------------------------------\")\n",
        "desviacion_est= nuevo_df.std()\n",
        "print(desviacion_est)"
      ],
      "metadata": {
        "colab": {
          "base_uri": "https://localhost:8080/"
        },
        "id": "BTjB5XlNRAPI",
        "outputId": "10782db2-2975-4a71-fba9-dd0a7c4ad907"
      },
      "execution_count": 17,
      "outputs": [
        {
          "output_type": "stream",
          "name": "stdout",
          "text": [
            "Desviación estandar de las variables a excepción de 'good':\n",
            "-----------------------------------------------------------\n",
            "fixed acidity            1.741096\n",
            "volatile acidity         0.179060\n",
            "citric acid              0.194801\n",
            "residual sugar           1.409928\n",
            "chlorides                0.047065\n",
            "free sulfur dioxide     10.460157\n",
            "total sulfur dioxide    32.895324\n",
            "density                  0.001887\n",
            "pH                       0.154386\n",
            "sulphates                0.169507\n",
            "alcohol                  1.065668\n",
            "quality                  0.807569\n",
            "dtype: float64\n"
          ]
        }
      ]
    },
    {
      "cell_type": "markdown",
      "source": [
        "La desviación estándar de \"Free Sulfur Dioxide\" es de aproximadamente 10,46. Esto sugiere que esta variable tiene una variación considerable alrededor de su promedio.\n",
        "\n",
        "Similar a la variable anterior la variable \"Total Sulfur Dioxide\" su desviación estándar es de aproximadamente 32.90. Esta también tiene una variación significativa alrededor de su promedio."
      ],
      "metadata": {
        "id": "DJdn4PATVcGw"
      }
    },
    {
      "cell_type": "markdown",
      "source": [
        "Se concluye que el nivel tanto de \"Free Sulfur Dioxide\" y \"Total Sulfur Dioxide\" debe ser distinto para cada vino de la muestra, esto puede ocurrir por diversas razones, el tipo de cosecha, el lugar de donde proviene la cosecha, la cantidad de azucar del vino, su nivel de exposición al oxígeno, entre otros. Esto podría explicar el alto valor que arroja tanto el promedio como la desviación estandar."
      ],
      "metadata": {
        "id": "UMBqzNjSWSE8"
      }
    },
    {
      "cell_type": "markdown",
      "source": [
        "###*Pregunta 6:*"
      ],
      "metadata": {
        "id": "iVcqyTIIbSJr"
      }
    },
    {
      "cell_type": "code",
      "source": [
        "#Grafique el histograma de la columna 'residual sugar':\n",
        "\n",
        "sugar = df['residual sugar']\n",
        "hist= thinkstats2.Hist(sugar,label= 'Residual Sugar')\n",
        "thinkplot.Hist(hist)\n",
        "plt.title('Histograma de la variable Residual Sugar')\n",
        "thinkplot.Show(xlabel='(g/dm^3)',ylabel='Frecuencia')"
      ],
      "metadata": {
        "colab": {
          "base_uri": "https://localhost:8080/",
          "height": 490
        },
        "id": "o2h4L8rJSGHf",
        "outputId": "414a6b75-accf-4687-ff23-80b375661d3d"
      },
      "execution_count": 45,
      "outputs": [
        {
          "output_type": "display_data",
          "data": {
            "text/plain": [
              "<Figure size 640x480 with 1 Axes>"
            ],
            "image/png": "[encoded data removed]"
          },
          "metadata": {}
        },
        {
          "output_type": "display_data",
          "data": {
            "text/plain": [
              "<Figure size 800x600 with 0 Axes>"
            ]
          },
          "metadata": {}
        }
      ]
    },
    {
      "cell_type": "code",
      "source": [
        "#Luego muestre los 5 valores más grandes de dicha columna con sus frecuencias respectivas:\n",
        "\n",
        "print(\"Los 5 valores más grandes y sus frecuencias de la columna 'residual sugar':\")\n",
        "print(\"--------------------------------------------------------------------------\")\n",
        "for sugar, freq in hist.Largest(5):\n",
        "    print(sugar, freq)"
      ],
      "metadata": {
        "colab": {
          "base_uri": "https://localhost:8080/"
        },
        "id": "BJvxOpvZS3Hg",
        "outputId": "5690b7c2-98d6-4eb9-d5e4-896009e365d1"
      },
      "execution_count": 19,
      "outputs": [
        {
          "output_type": "stream",
          "name": "stdout",
          "text": [
            "Los 5 valores más grandes y sus frecuencias de la columna 'residual sugar':\n",
            "--------------------------------------------------------------------------\n",
            "15.5 1\n",
            "15.4 2\n",
            "13.9 1\n",
            "13.8 2\n",
            "13.4 1\n"
          ]
        }
      ]
    },
    {
      "cell_type": "markdown",
      "source": [
        "Los cinco valores más grandes del conjunto de datos de 'residual sugar' son de 13,4 - 13,8 - 13,9 - 15,4 y 15,5 g/dm3."
      ],
      "metadata": {
        "id": "rx2CKfXf4aoE"
      }
    },
    {
      "cell_type": "code",
      "source": [
        "#Basándose en el promedio, desviación estándar e histograma de esta columna\n",
        "#comente sobre si los 5 valores más grandes de esa columna deberían ser considerados outliers o no:\n",
        "\n",
        "print(\"Valores estadísticos de 'residual sugar':\")\n",
        "print(\"-------------------------------\")\n",
        "sugar_mean= df['residual sugar'].mean()\n",
        "sugar_median= df['residual sugar'].median()\n",
        "sugar_std= df['residual sugar'].std()\n",
        "q1 = df['residual sugar'].quantile(0.25)\n",
        "q3 = df['residual sugar'].quantile(0.75)\n",
        "print(\"Promedio:\")\n",
        "print(sugar_mean)\n",
        "print(\" \")\n",
        "print(\"Mediana:\")\n",
        "print(sugar_median)\n",
        "print(\" \")\n",
        "print(\"Desviación estandar:\")\n",
        "print(sugar_std)\n",
        "print(\" \")\n",
        "print(\"Cuartil 1:\")\n",
        "print(q1)\n",
        "print(\" \")\n",
        "print(\"Cuartil 3:\")\n",
        "print(q3)\n",
        "\n"
      ],
      "metadata": {
        "colab": {
          "base_uri": "https://localhost:8080/"
        },
        "id": "VjCRF_rDYbLZ",
        "outputId": "34ed00d4-b4b9-4b5b-d416-4d7c0b2ff430"
      },
      "execution_count": 20,
      "outputs": [
        {
          "output_type": "stream",
          "name": "stdout",
          "text": [
            "Valores estadísticos de 'residual sugar':\n",
            "-------------------------------\n",
            "Promedio:\n",
            "2.53880550343965\n",
            " \n",
            "Mediana:\n",
            "2.2\n",
            " \n",
            "Desviación estandar:\n",
            "1.4099280595072798\n",
            " \n",
            "Cuartil 1:\n",
            "1.9\n",
            " \n",
            "Cuartil 3:\n",
            "2.6\n"
          ]
        }
      ]
    },
    {
      "cell_type": "markdown",
      "source": [
        "Fórmula para calcular si existen outliers:\n",
        "[𝑄1 − 𝑘(𝑄3 − 𝑄1) , 𝑄3 + 𝑘(𝑄3 − 𝑄1)] (donde normalmente k = 1,5)\n",
        "Q1 y Q3 corresponden al primer y tercer quintil respectivamente."
      ],
      "metadata": {
        "id": "pQx4rVa5xxIZ"
      }
    },
    {
      "cell_type": "code",
      "source": [
        "#Outliers:\n",
        "\n",
        "rango_1 = 1.9 - 1.5 * (2.6 - 1.9)\n",
        "rango_2 = 2.6 + 1.5 * (2.6 - 1.9)\n",
        "(rango_1, rango_2)"
      ],
      "metadata": {
        "colab": {
          "base_uri": "https://localhost:8080/"
        },
        "id": "EG-Iy7MZvlKc",
        "outputId": "002759e7-4cca-41c6-89cd-663291ec7af8"
      },
      "execution_count": 21,
      "outputs": [
        {
          "output_type": "execute_result",
          "data": {
            "text/plain": [
              "(0.8499999999999996, 3.6500000000000004)"
            ]
          },
          "metadata": {},
          "execution_count": 21
        }
      ]
    },
    {
      "cell_type": "markdown",
      "source": [
        "El promedio de 'Sugar' da un valor de 2,53, la mediana 2,2 y la desviación estandar 1,40, esto nos señala que la mayoría de los datos están concentrados en el valor de 2 g/dm3 un valor cercano a la media, en donde además la desviación estandar nos demuestra que existe muy poca variación entre los datos.\n",
        "\n",
        "En cuanto a los cinco valores más grandes de la muestra que van desde el 13,4 al 15,5 sí deben ser considerados outliers ya que al calcular la fórmula esta nos arroja que el rango en el que deberian estar los datos va desde el 0,85 al 3,65, y esto es significativamente menor en comparación a 15,5, por lo tanto deben considerarse como datos atípicos.\n"
      ],
      "metadata": {
        "id": "UQ64pcz44tIM"
      }
    },
    {
      "cell_type": "code",
      "source": [
        "#Comente sobre sí los 5 valores más pequeños de 'sugar' deberían ser considerados outliers o no:\n",
        "\n",
        "print(\"Los 5 valores más pequeños y su frecuencia de la columna 'residual sugar':\")\n",
        "print(\"--------------------------------------------------------------------------\")\n",
        "for sugar, freq in hist.Smallest(5):\n",
        "    print(sugar, freq)"
      ],
      "metadata": {
        "colab": {
          "base_uri": "https://localhost:8080/"
        },
        "id": "4Yd7ggz_WxCR",
        "outputId": "b11f4dfa-d548-4ac2-b7a2-dbe422fe2121"
      },
      "execution_count": 22,
      "outputs": [
        {
          "output_type": "stream",
          "name": "stdout",
          "text": [
            "Los 5 valores más pequeños y su frecuencia de la columna 'residual sugar':\n",
            "--------------------------------------------------------------------------\n",
            "0.9 2\n",
            "1.2 8\n",
            "1.3 5\n",
            "1.4 35\n",
            "1.5 30\n"
          ]
        }
      ]
    },
    {
      "cell_type": "markdown",
      "source": [
        "En cuanto a los cinco valores más pequeños tenemos desde 0,9 al 1,5 los cuales están dentro de los rangos de 0,85 a 3,65 lo que indica que son números normales dentro de la muestra de datos de 'residual sugar' por lo que no deben ser considerados como outliers."
      ],
      "metadata": {
        "id": "8U6-dL0v3dzv"
      }
    },
    {
      "cell_type": "markdown",
      "source": [
        "###*Pregunta 7:*"
      ],
      "metadata": {
        "id": "5i5wHGIg5mbA"
      }
    },
    {
      "cell_type": "code",
      "source": [
        "#Separar entre vinos buenos y vinos malos:\n",
        "\n",
        "print(\"Cantidad de vinos buenos:\")\n",
        "print(\"-------------------------\")\n",
        "vinos_buenos = df[df['good']==1]\n",
        "vinos_buenos.value_counts().sum()\n"
      ],
      "metadata": {
        "colab": {
          "base_uri": "https://localhost:8080/"
        },
        "id": "orN9-84IafDB",
        "outputId": "b945fbd8-33ef-484f-da8f-d1480cff9c4c"
      },
      "execution_count": 23,
      "outputs": [
        {
          "output_type": "stream",
          "name": "stdout",
          "text": [
            "Cantidad de vinos buenos:\n",
            "-------------------------\n"
          ]
        },
        {
          "output_type": "execute_result",
          "data": {
            "text/plain": [
              "217"
            ]
          },
          "metadata": {},
          "execution_count": 23
        }
      ]
    },
    {
      "cell_type": "code",
      "source": [
        "print(\"Cantidad de vinos malos:\")\n",
        "print(\"------------------------\")\n",
        "vinos_malos = df[df['good']==0]\n",
        "vinos_malos.value_counts().sum()"
      ],
      "metadata": {
        "colab": {
          "base_uri": "https://localhost:8080/"
        },
        "id": "IqHCBw_f62rK",
        "outputId": "899d8991-177d-4c8d-c93a-0df2d06340e7"
      },
      "execution_count": 24,
      "outputs": [
        {
          "output_type": "stream",
          "name": "stdout",
          "text": [
            "Cantidad de vinos malos:\n",
            "------------------------\n"
          ]
        },
        {
          "output_type": "execute_result",
          "data": {
            "text/plain": [
              "1382"
            ]
          },
          "metadata": {},
          "execution_count": 24
        }
      ]
    },
    {
      "cell_type": "code",
      "source": [
        "#Grafique histogramas de la variable 'alcohol' en ambos grupos:\n",
        "\n",
        "alcohol_buenos_hist= thinkstats2.Hist(vinos_buenos['alcohol'])\n",
        "alcohol_malos_hist = thinkstats2.Hist(vinos_malos['alcohol'])\n",
        "\n",
        "width = 0.05\n",
        "thinkplot.PrePlot(2)\n",
        "thinkplot.Hist(alcohol_buenos_hist, align='right', width=width)\n",
        "thinkplot.Hist(alcohol_malos_hist, align='left', width=width, color='red')\n",
        "plt.title('Histograma de nivel de Alcohol en Vinos Buenos y Malos')\n",
        "thinkplot.Show(xlabel='Nivel de alcohol', ylabel='Frecuencia')\n"
      ],
      "metadata": {
        "colab": {
          "base_uri": "https://localhost:8080/",
          "height": 490
        },
        "id": "oNUhd0rY55lx",
        "outputId": "68e74505-9745-4e25-849d-39828c3a108c"
      },
      "execution_count": 25,
      "outputs": [
        {
          "output_type": "display_data",
          "data": {
            "text/plain": [
              "<Figure size 640x480 with 1 Axes>"
            ],
            "image/png": "[encoded data removed]"
          },
          "metadata": {}
        },
        {
          "output_type": "display_data",
          "data": {
            "text/plain": [
              "<Figure size 800x600 with 0 Axes>"
            ]
          },
          "metadata": {}
        }
      ]
    },
    {
      "cell_type": "markdown",
      "source": [
        "La combinación de ambos histogramas arroja las siguientes características:\n",
        "\n",
        "Histograma vinos malos(barras rojas): Este muestra una variación notable. Inicialmente, la frecuencia es mínima para vinos con 8 grados de alcohol, pero se observa un pick pronunciado donde la mayoría, aproximadamente 130 unidades, poseen un contenido de alcohol entre 9 y 10 grados. Posteriormente, la frecuencia disminuye de manera gradual para aquellos con entre 10 y 11 grados, y se reduce significativamente para los vinos con 12 a 15 grados de alcohol.\n",
        "\n",
        "Histograma vinos buenos(barras azules): La distribución comienza con una baja frecuencia a partir de los 9 grados, incrementándose de forma gradual y homogenea a lo largo de los grados siguientes. Se evidencia un ligero aumento en la frecuencia entre los 11 y 13 grados, disminuyendo suavemente hasta los 14 grados. Las frecuencias en este pick no exceden las 20 unidades, lo que indica que, aunque sean pocos, los vinos de buena calidad muestran una distribución bastante uniforme, demostrando que los vinos de mayor calidad se encuentran principalmente en el rango de 11 a 13 grados de alcohol.\n",
        "\n",
        "Podemos concluir que los vinos considerados de buena calidad tienden a tener un mayor contenido de alcohol, entre 11 y 12 grados."
      ],
      "metadata": {
        "id": "_dB7IliUm46f"
      }
    },
    {
      "cell_type": "code",
      "source": [
        "#Calculo de PMF\n",
        "\n",
        "pmf_vinos_buenos = thinkstats2.Pmf(vinos_buenos[\"alcohol\"])\n",
        "pmf_vinos_malos = thinkstats2.Pmf(vinos_malos[\"alcohol\"])"
      ],
      "metadata": {
        "id": "sjxAASQi72Pd"
      },
      "execution_count": 26,
      "outputs": []
    },
    {
      "cell_type": "code",
      "source": [
        "#Gráfico PMF para nivel de alcohol en vinos buenos y malos\n",
        "\n",
        "width = 0.05\n",
        "thinkplot.PrePlot(2)\n",
        "thinkplot.Hist(pmf_vinos_buenos, align='right', width=width)\n",
        "thinkplot.Hist(pmf_vinos_malos, align='left', width=width, color='red')\n",
        "plt.title('Histograma de PMF para nivel de Alcohol en Vinos Buenos y Malos')\n",
        "thinkplot.Show(xlabel='Nivel de alcohol', ylabel='Probabilidad')"
      ],
      "metadata": {
        "colab": {
          "base_uri": "https://localhost:8080/",
          "height": 490
        },
        "id": "Y-5jqXrS8Kli",
        "outputId": "4dc2f434-7308-4149-c8bf-7a215d1daabf"
      },
      "execution_count": 27,
      "outputs": [
        {
          "output_type": "display_data",
          "data": {
            "text/plain": [
              "<Figure size 640x480 with 1 Axes>"
            ],
            "image/png": "[encoded data removed]"
          },
          "metadata": {}
        },
        {
          "output_type": "display_data",
          "data": {
            "text/plain": [
              "<Figure size 800x600 with 0 Axes>"
            ]
          },
          "metadata": {}
        }
      ]
    },
    {
      "cell_type": "markdown",
      "source": [
        "La combinación de ambos histogramas arroja las siguientes características:\n",
        "\n",
        "PMF vinos malos(barras rojas):\n",
        "la probabilidad de que los vinos clasificados como malos tengan entre 9 y 10 grados es alta de 0.1, esto significa que es más probable encontrar vinos con 9 grados de alcohol en los vinos malos. A diferencia de los vinos que presentan otros grados de alcohol, existe una probabilidad moderada que baja de 0,04 a 0,01 para los grados desde 10 a 12.\n",
        "Se puede inferir que si un grado de alcohol es más común en vinos malos, puede considerarse un indicador de menor calidad, en este caso serían los vinos de grado 9.\n",
        "\n",
        "PMF vinos buenos(barras azules):\n",
        "La PMF de los vinos buenos revela que la probabilidad más alta de 0,06 se encuentra en los 11 y 12 grados de alcohol. Esto sugiere que es probable que los vinos de mejor calidad tengan este grado de alcohol. Sin embargo, también se observa una dispersión leve en la distribución, en donde los demás grados tienen una probabilidad entre 0,03 y 0,04. La concentración principal de los vinos buenos se encuentra entre los 11 y 12 grados de alcohol."
      ],
      "metadata": {
        "id": "--Bz5_v26U-g"
      }
    },
    {
      "cell_type": "markdown",
      "source": [
        "La distribución para ambos gráficos es similar la gran diferencia se nota en la elevación que tienen las barras para los vinos buenos en el gráfico de PMF pero esto se puede explicar porque la probabilidad de obtener un vino bueno de la muestra no puede ser tan baja y se concentra en 0,04 de probabilidad."
      ],
      "metadata": {
        "id": "56VBNhrXJneA"
      }
    },
    {
      "cell_type": "markdown",
      "source": [
        "El uso de histogramas para representar los PMF de vinos buenos y malos permitió interpretar la distribución de los datos. Aunque un gráfico de barras o un gráfico de líneas podría proporcionar una ilustración más clara de las diferencias de probabilidad, en este caso considero que los histogramas fueron adecuados y suficientes para visualizar las tendencias y contrastes entre las distribuciones de vinos buenos y malos."
      ],
      "metadata": {
        "id": "nZkMbxli97ak"
      }
    },
    {
      "cell_type": "markdown",
      "source": [
        "###*Pregunta 8:*"
      ],
      "metadata": {
        "id": "U9Lkpw0g7wtT"
      }
    },
    {
      "cell_type": "code",
      "source": [
        "# Calcule el efecto del tamaño de Cohen de la variable 'alcohol'\n",
        "# de los vinos buenos vs los vinos malos.\n",
        "\n",
        "# Definición de la función del coeficiente de Cohen:\n",
        "\n",
        "def CohenEffectSize(group1, group2):\n",
        "  diff = group1.mean() - group2.mean()\n",
        "  var1 = group1.var()\n",
        "  var2 = group2.var()\n",
        "  n1, n2 = len(group1), len(group2)\n",
        "  pooled_var = (n1 * var1 + n2 * var2) / (n1 + n2)\n",
        "  d = diff / np.sqrt(pooled_var)\n",
        "  return d\n"
      ],
      "metadata": {
        "id": "vXozppknfIlW"
      },
      "execution_count": 28,
      "outputs": []
    },
    {
      "cell_type": "code",
      "source": [
        "print(\"Coeficiente de Cohen para la variable 'alcohol' en vinos buenos y malos:\")\n",
        "print(\"-----------------------------------------------------------------------\")\n",
        "coef_cohen= CohenEffectSize(vinos_buenos['alcohol'],vinos_malos['alcohol'])\n",
        "print(coef_cohen)"
      ],
      "metadata": {
        "id": "sEnFq5Bmg-ui",
        "colab": {
          "base_uri": "https://localhost:8080/"
        },
        "outputId": "469c6f62-69fc-4c5b-fa84-98500d7f7feb"
      },
      "execution_count": 29,
      "outputs": [
        {
          "output_type": "stream",
          "name": "stdout",
          "text": [
            "Coeficiente de Cohen para la variable 'alcohol' en vinos buenos y malos:\n",
            "-----------------------------------------------------------------------\n",
            "1.3013961896335744\n"
          ]
        }
      ]
    },
    {
      "cell_type": "markdown",
      "source": [
        "El coeficiente de Cohen se interpreta de la siguiente manera:\n",
        "\n",
        "Un coeficiente de Cohen de 1.3 es bastante grande, lo que sugiere que hay una gran diferencia entre los vinos buenos y vinos malos en términos del nivel de alcohol, lo cual queda demostrado con los gráficos anteriores viendo su distribución."
      ],
      "metadata": {
        "id": "xu6209HRi7M2"
      }
    },
    {
      "cell_type": "markdown",
      "source": [
        "En conclusión esto puede significar que el nivel de alcohol es un factor importante para determinar si un vino es bueno o malo en este conjunto de datos."
      ],
      "metadata": {
        "id": "eyEHprlDLGSu"
      }
    },
    {
      "cell_type": "markdown",
      "source": [
        "###*Pregunta 9:*\n"
      ],
      "metadata": {
        "id": "8-s1YcKZBqNE"
      }
    },
    {
      "cell_type": "code",
      "source": [
        "#Probabilidad de elegir un vino bueno:\n",
        "\n",
        "p = len(vinos_buenos) / (len(vinos_buenos) + len(vinos_malos))\n",
        "print(p)\n",
        "n= 10000"
      ],
      "metadata": {
        "colab": {
          "base_uri": "https://localhost:8080/"
        },
        "id": "PA4DwfaQBxXH",
        "outputId": "a9c5d151-f474-4efa-86e8-36936f74d4aa"
      },
      "execution_count": 30,
      "outputs": [
        {
          "output_type": "stream",
          "name": "stdout",
          "text": [
            "0.1357098186366479\n"
          ]
        }
      ]
    },
    {
      "cell_type": "code",
      "source": [
        "#Definición variable aleatoria:\n",
        "\n",
        "x=np.random.binomial(n=n, p=p, size=100000)\n",
        "x"
      ],
      "metadata": {
        "colab": {
          "base_uri": "https://localhost:8080/"
        },
        "id": "jZVdafzxDmQC",
        "outputId": "dbadc3c2-098a-4f0b-d4b7-dca343d62dfd"
      },
      "execution_count": 31,
      "outputs": [
        {
          "output_type": "execute_result",
          "data": {
            "text/plain": [
              "array([1316, 1310, 1363, ..., 1363, 1380, 1357])"
            ]
          },
          "metadata": {},
          "execution_count": 31
        }
      ]
    },
    {
      "cell_type": "code",
      "source": [
        "# Graficar un histograma:\n",
        "\n",
        "hist_binomial = thinkstats2.Hist(x)\n",
        "thinkplot.Hist(hist_binomial)\n",
        "plt.title(\"Histograma distribución binomial\")\n",
        "thinkplot.Show(xlabel='Vinos buenos en la muestra', ylabel='Frecuencia')\n"
      ],
      "metadata": {
        "colab": {
          "base_uri": "https://localhost:8080/",
          "height": 490
        },
        "id": "sSjrWzd8E0Tq",
        "outputId": "3487dfd2-f87a-40c0-db74-740149b04007"
      },
      "execution_count": 32,
      "outputs": [
        {
          "output_type": "display_data",
          "data": {
            "text/plain": [
              "<Figure size 640x480 with 1 Axes>"
            ],
            "image/png": "[encoded data removed]"
          },
          "metadata": {}
        },
        {
          "output_type": "display_data",
          "data": {
            "text/plain": [
              "<Figure size 800x600 with 0 Axes>"
            ]
          },
          "metadata": {}
        }
      ]
    },
    {
      "cell_type": "code",
      "source": [
        "# Calcular el promedio de la muestra obtenida:\n",
        "\n",
        "promedio = np.mean(x)\n",
        "print('El promedio de la muestra obtenida es:', promedio)"
      ],
      "metadata": {
        "colab": {
          "base_uri": "https://localhost:8080/"
        },
        "id": "vIJBUAL-FLy7",
        "outputId": "d71cd58f-c17f-4607-de88-3503114eda08"
      },
      "execution_count": 33,
      "outputs": [
        {
          "output_type": "stream",
          "name": "stdout",
          "text": [
            "El promedio de la muestra obtenida es: 1357.21191\n"
          ]
        }
      ]
    },
    {
      "cell_type": "code",
      "source": [
        "#Promedio teórico de una distribución binomial:\n",
        "\n",
        "n*p"
      ],
      "metadata": {
        "colab": {
          "base_uri": "https://localhost:8080/"
        },
        "id": "0kvHCiuIN7ZX",
        "outputId": "df6b01c4-db3c-4a47-94a2-931318871278"
      },
      "execution_count": 34,
      "outputs": [
        {
          "output_type": "execute_result",
          "data": {
            "text/plain": [
              "1357.098186366479"
            ]
          },
          "metadata": {},
          "execution_count": 34
        }
      ]
    },
    {
      "cell_type": "markdown",
      "source": [
        "El promedio de la muestra obtenida es 1357,12 esto tiene sentido ya que esperamos que la proporción de vinos buenos en una muestra aleatoria refleje de cerca la proporción observada en el conjunto de datos completo, ya que esto representa el 13% de toda la muestra al igual que en los datos del dataset original."
      ],
      "metadata": {
        "id": "m7XQpVSYNu2X"
      }
    }
  ]
}